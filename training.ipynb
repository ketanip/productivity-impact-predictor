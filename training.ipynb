{
 "cells": [
  {
   "cell_type": "markdown",
   "metadata": {},
   "source": [
    "In this project I want to find the estimated time spend by a user on social media based on their demographic data. "
   ]
  },
  {
   "cell_type": "markdown",
   "metadata": {},
   "source": [
    "### Requirements Installation"
   ]
  },
  {
   "cell_type": "code",
   "execution_count": 24,
   "metadata": {},
   "outputs": [
    {
     "name": "stdout",
     "output_type": "stream",
     "text": [
      "Requirement already satisfied: pandas in c:\\users\\ketan\\desktop\\productivity-impact-predictor\\.venv\\lib\\site-packages (2.2.3)Note: you may need to restart the kernel to use updated packages.\n",
      "\n",
      "Requirement already satisfied: numpy in c:\\users\\ketan\\desktop\\productivity-impact-predictor\\.venv\\lib\\site-packages (2.1.3)\n",
      "Requirement already satisfied: scikit-learn in c:\\users\\ketan\\desktop\\productivity-impact-predictor\\.venv\\lib\\site-packages (1.5.2)\n",
      "Requirement already satisfied: matplotlib in c:\\users\\ketan\\desktop\\productivity-impact-predictor\\.venv\\lib\\site-packages (3.9.2)\n",
      "Collecting seaborn\n",
      "  Using cached seaborn-0.13.2-py3-none-any.whl.metadata (5.4 kB)\n",
      "Requirement already satisfied: python-dateutil>=2.8.2 in c:\\users\\ketan\\desktop\\productivity-impact-predictor\\.venv\\lib\\site-packages (from pandas) (2.9.0.post0)\n",
      "Requirement already satisfied: pytz>=2020.1 in c:\\users\\ketan\\desktop\\productivity-impact-predictor\\.venv\\lib\\site-packages (from pandas) (2024.2)\n",
      "Requirement already satisfied: tzdata>=2022.7 in c:\\users\\ketan\\desktop\\productivity-impact-predictor\\.venv\\lib\\site-packages (from pandas) (2024.2)\n",
      "Requirement already satisfied: scipy>=1.6.0 in c:\\users\\ketan\\desktop\\productivity-impact-predictor\\.venv\\lib\\site-packages (from scikit-learn) (1.14.1)\n",
      "Requirement already satisfied: joblib>=1.2.0 in c:\\users\\ketan\\desktop\\productivity-impact-predictor\\.venv\\lib\\site-packages (from scikit-learn) (1.4.2)\n",
      "Requirement already satisfied: threadpoolctl>=3.1.0 in c:\\users\\ketan\\desktop\\productivity-impact-predictor\\.venv\\lib\\site-packages (from scikit-learn) (3.5.0)\n",
      "Requirement already satisfied: contourpy>=1.0.1 in c:\\users\\ketan\\desktop\\productivity-impact-predictor\\.venv\\lib\\site-packages (from matplotlib) (1.3.0)\n",
      "Requirement already satisfied: cycler>=0.10 in c:\\users\\ketan\\desktop\\productivity-impact-predictor\\.venv\\lib\\site-packages (from matplotlib) (0.12.1)\n",
      "Requirement already satisfied: fonttools>=4.22.0 in c:\\users\\ketan\\desktop\\productivity-impact-predictor\\.venv\\lib\\site-packages (from matplotlib) (4.54.1)\n",
      "Requirement already satisfied: kiwisolver>=1.3.1 in c:\\users\\ketan\\desktop\\productivity-impact-predictor\\.venv\\lib\\site-packages (from matplotlib) (1.4.7)\n",
      "Requirement already satisfied: packaging>=20.0 in c:\\users\\ketan\\desktop\\productivity-impact-predictor\\.venv\\lib\\site-packages (from matplotlib) (24.1)\n",
      "Requirement already satisfied: pillow>=8 in c:\\users\\ketan\\desktop\\productivity-impact-predictor\\.venv\\lib\\site-packages (from matplotlib) (11.0.0)\n",
      "Requirement already satisfied: pyparsing>=2.3.1 in c:\\users\\ketan\\desktop\\productivity-impact-predictor\\.venv\\lib\\site-packages (from matplotlib) (3.2.0)\n",
      "Requirement already satisfied: six>=1.5 in c:\\users\\ketan\\desktop\\productivity-impact-predictor\\.venv\\lib\\site-packages (from python-dateutil>=2.8.2->pandas) (1.16.0)\n",
      "Using cached seaborn-0.13.2-py3-none-any.whl (294 kB)\n",
      "Installing collected packages: seaborn\n",
      "Successfully installed seaborn-0.13.2\n"
     ]
    }
   ],
   "source": [
    "%pip install pandas numpy scikit-learn matplotlib seaborn"
   ]
  },
  {
   "cell_type": "markdown",
   "metadata": {},
   "source": [
    "### Importing Requirements and Data"
   ]
  },
  {
   "cell_type": "markdown",
   "metadata": {},
   "source": [
    "Let us first import all the required packages."
   ]
  },
  {
   "cell_type": "code",
   "execution_count": 91,
   "metadata": {},
   "outputs": [],
   "source": [
    "import pandas as pd\n",
    "import numpy as np\n",
    "import seaborn as sns\n",
    "import matplotlib.pyplot as plt"
   ]
  },
  {
   "cell_type": "markdown",
   "metadata": {},
   "source": [
    "Now let us import our data."
   ]
  },
  {
   "cell_type": "code",
   "execution_count": 175,
   "metadata": {},
   "outputs": [],
   "source": [
    "df = pd.read_csv(\"./data/time-wasted-on-social-media.csv\")"
   ]
  },
  {
   "cell_type": "markdown",
   "metadata": {},
   "source": [
    "We will change default behavior of pandas so that it will not truncate columns as there are lots of columns."
   ]
  },
  {
   "cell_type": "code",
   "execution_count": 176,
   "metadata": {},
   "outputs": [],
   "source": [
    "pd.set_option('display.max_columns', None)\n",
    "pd.set_option('display.max_rows', None)"
   ]
  },
  {
   "cell_type": "code",
   "execution_count": 177,
   "metadata": {},
   "outputs": [
    {
     "data": {
      "text/plain": [
       "Index(['UserID', 'Age', 'Gender', 'Location', 'Income', 'Debt',\n",
       "       'Owns Property', 'Profession', 'Demographics', 'Platform',\n",
       "       'Total Time Spent', 'Number of Sessions', 'Video ID', 'Video Category',\n",
       "       'Video Length', 'Engagement', 'Importance Score', 'Time Spent On Video',\n",
       "       'Number of Videos Watched', 'Scroll Rate', 'Frequency',\n",
       "       'ProductivityLoss', 'Satisfaction', 'Watch Reason', 'DeviceType', 'OS',\n",
       "       'Watch Time', 'Self Control', 'Addiction Level', 'CurrentActivity',\n",
       "       'ConnectionType', 'id'],\n",
       "      dtype='object')"
      ]
     },
     "execution_count": 177,
     "metadata": {},
     "output_type": "execute_result"
    }
   ],
   "source": [
    "df.columns"
   ]
  },
  {
   "cell_type": "markdown",
   "metadata": {},
   "source": [
    "### Data Exploration\n",
    "\n",
    "Let us first explore data and find out which data features are worth keeping and which aren't to achieve our goal."
   ]
  },
  {
   "cell_type": "code",
   "execution_count": 178,
   "metadata": {},
   "outputs": [
    {
     "data": {
      "text/html": [
       "<div>\n",
       "<style scoped>\n",
       "    .dataframe tbody tr th:only-of-type {\n",
       "        vertical-align: middle;\n",
       "    }\n",
       "\n",
       "    .dataframe tbody tr th {\n",
       "        vertical-align: top;\n",
       "    }\n",
       "\n",
       "    .dataframe thead th {\n",
       "        text-align: right;\n",
       "    }\n",
       "</style>\n",
       "<table border=\"1\" class=\"dataframe\">\n",
       "  <thead>\n",
       "    <tr style=\"text-align: right;\">\n",
       "      <th></th>\n",
       "      <th>UserID</th>\n",
       "      <th>Age</th>\n",
       "      <th>Gender</th>\n",
       "      <th>Location</th>\n",
       "      <th>Income</th>\n",
       "      <th>Debt</th>\n",
       "      <th>Owns Property</th>\n",
       "      <th>Profession</th>\n",
       "      <th>Demographics</th>\n",
       "      <th>Platform</th>\n",
       "      <th>Total Time Spent</th>\n",
       "      <th>Number of Sessions</th>\n",
       "      <th>Video ID</th>\n",
       "      <th>Video Category</th>\n",
       "      <th>Video Length</th>\n",
       "      <th>Engagement</th>\n",
       "      <th>Importance Score</th>\n",
       "      <th>Time Spent On Video</th>\n",
       "      <th>Number of Videos Watched</th>\n",
       "      <th>Scroll Rate</th>\n",
       "      <th>Frequency</th>\n",
       "      <th>ProductivityLoss</th>\n",
       "      <th>Satisfaction</th>\n",
       "      <th>Watch Reason</th>\n",
       "      <th>DeviceType</th>\n",
       "      <th>OS</th>\n",
       "      <th>Watch Time</th>\n",
       "      <th>Self Control</th>\n",
       "      <th>Addiction Level</th>\n",
       "      <th>CurrentActivity</th>\n",
       "      <th>ConnectionType</th>\n",
       "      <th>id</th>\n",
       "    </tr>\n",
       "  </thead>\n",
       "  <tbody>\n",
       "    <tr>\n",
       "      <th>0</th>\n",
       "      <td>1</td>\n",
       "      <td>56.0-</td>\n",
       "      <td>Mle</td>\n",
       "      <td>Pakistan</td>\n",
       "      <td>$82812.000</td>\n",
       "      <td>True</td>\n",
       "      <td>True</td>\n",
       "      <td>job:engineer</td>\n",
       "      <td>rURAL</td>\n",
       "      <td>INSTAGRAM</td>\n",
       "      <td>80</td>\n",
       "      <td>17.0.0</td>\n",
       "      <td>4229</td>\n",
       "      <td>Pranks</td>\n",
       "      <td>24.0</td>\n",
       "      <td>7867.0.0</td>\n",
       "      <td>5</td>\n",
       "      <td>26.0.0</td>\n",
       "      <td>22.0</td>\n",
       "      <td>87:</td>\n",
       "      <td>Night</td>\n",
       "      <td>3.0.0</td>\n",
       "      <td>7.0.:</td>\n",
       "      <td>/Procrastination</td>\n",
       "      <td>Smrtphone</td>\n",
       "      <td>Android</td>\n",
       "      <td>9:00 PM</td>\n",
       "      <td>5.0.0</td>\n",
       "      <td>5.0.0</td>\n",
       "      <td>Commuting</td>\n",
       "      <td>Mobile-Data</td>\n",
       "      <td>1</td>\n",
       "    </tr>\n",
       "    <tr>\n",
       "      <th>1</th>\n",
       "      <td>2</td>\n",
       "      <td>46.0-</td>\n",
       "      <td>Fmle</td>\n",
       "      <td>xMexico</td>\n",
       "      <td>$27999.000</td>\n",
       "      <td>False</td>\n",
       "      <td>True</td>\n",
       "      <td>job:Artist</td>\n",
       "      <td>uRBAN</td>\n",
       "      <td>INSTAGRAM</td>\n",
       "      <td>228</td>\n",
       "      <td>14.0.0</td>\n",
       "      <td>2131</td>\n",
       "      <td>Pranks</td>\n",
       "      <td>19.0</td>\n",
       "      <td>5944.0.0</td>\n",
       "      <td>6</td>\n",
       "      <td>25.0.0</td>\n",
       "      <td>31.0</td>\n",
       "      <td>46:</td>\n",
       "      <td>Afternoon</td>\n",
       "      <td>5.0.0</td>\n",
       "      <td>5.0.:</td>\n",
       "      <td>/Habit</td>\n",
       "      <td>Computer</td>\n",
       "      <td>Android</td>\n",
       "      <td>5:00 PM</td>\n",
       "      <td>7.0.0</td>\n",
       "      <td>3.0.0</td>\n",
       "      <td>Atschool</td>\n",
       "      <td>Wi-Fi</td>\n",
       "      <td>2</td>\n",
       "    </tr>\n",
       "    <tr>\n",
       "      <th>2</th>\n",
       "      <td>3</td>\n",
       "      <td>32.0-</td>\n",
       "      <td>Fmle</td>\n",
       "      <td>xUnited States</td>\n",
       "      <td>$42436.000</td>\n",
       "      <td>False</td>\n",
       "      <td>True</td>\n",
       "      <td>job:engineer</td>\n",
       "      <td>rURAL</td>\n",
       "      <td>FACEBOOK</td>\n",
       "      <td>30</td>\n",
       "      <td>6.0.0</td>\n",
       "      <td>4367</td>\n",
       "      <td>Vlogs</td>\n",
       "      <td>19.0</td>\n",
       "      <td>8674.0.0</td>\n",
       "      <td>3</td>\n",
       "      <td>9.0.0</td>\n",
       "      <td>7.0</td>\n",
       "      <td>88:</td>\n",
       "      <td>Evening</td>\n",
       "      <td>6.0.0</td>\n",
       "      <td>4.0.:</td>\n",
       "      <td>/Entertainment</td>\n",
       "      <td>Tablett</td>\n",
       "      <td>Android</td>\n",
       "      <td>2:00 PM</td>\n",
       "      <td>8.0.0</td>\n",
       "      <td>2.0.0</td>\n",
       "      <td>Athome</td>\n",
       "      <td>Mobile-Data</td>\n",
       "      <td>3</td>\n",
       "    </tr>\n",
       "    <tr>\n",
       "      <th>3</th>\n",
       "      <td>4</td>\n",
       "      <td>60.0-</td>\n",
       "      <td>Mle</td>\n",
       "      <td>xBrazil</td>\n",
       "      <td>$62963.000</td>\n",
       "      <td>True</td>\n",
       "      <td>False</td>\n",
       "      <td>job:Waiting staff</td>\n",
       "      <td>rURAL</td>\n",
       "      <td>youtube</td>\n",
       "      <td>101</td>\n",
       "      <td>19.0.0</td>\n",
       "      <td>1507</td>\n",
       "      <td>Vlogs</td>\n",
       "      <td>4.0</td>\n",
       "      <td>2477.0.0</td>\n",
       "      <td>2</td>\n",
       "      <td>6.0.0</td>\n",
       "      <td>41.0</td>\n",
       "      <td>93:</td>\n",
       "      <td>Night</td>\n",
       "      <td>3.0.0</td>\n",
       "      <td>7.0.:</td>\n",
       "      <td>/Habit</td>\n",
       "      <td>Smrtphone</td>\n",
       "      <td>Android</td>\n",
       "      <td>9:00 PM</td>\n",
       "      <td>5.0.0</td>\n",
       "      <td>5.0.0</td>\n",
       "      <td>Commuting</td>\n",
       "      <td>Mobile-Data</td>\n",
       "      <td>4</td>\n",
       "    </tr>\n",
       "    <tr>\n",
       "      <th>4</th>\n",
       "      <td>5</td>\n",
       "      <td>25.0-</td>\n",
       "      <td>Mle</td>\n",
       "      <td>xPakistan</td>\n",
       "      <td>$22096.000</td>\n",
       "      <td>False</td>\n",
       "      <td>True</td>\n",
       "      <td>job:Manager</td>\n",
       "      <td>uRBAN</td>\n",
       "      <td>tiktok</td>\n",
       "      <td>136</td>\n",
       "      <td>6.0.0</td>\n",
       "      <td>2159</td>\n",
       "      <td>Gming</td>\n",
       "      <td>19.0</td>\n",
       "      <td>3093.0.0</td>\n",
       "      <td>7</td>\n",
       "      <td>13.0.0</td>\n",
       "      <td>21.0</td>\n",
       "      <td>4:</td>\n",
       "      <td>Morning</td>\n",
       "      <td>8.0.0</td>\n",
       "      <td>2.0.:</td>\n",
       "      <td>/Boredom</td>\n",
       "      <td>Smrtphone</td>\n",
       "      <td>iOS</td>\n",
       "      <td>8:00 AM</td>\n",
       "      <td>10.0.0</td>\n",
       "      <td>0.0.0</td>\n",
       "      <td>Athome</td>\n",
       "      <td>Mobile-Data</td>\n",
       "      <td>5</td>\n",
       "    </tr>\n",
       "  </tbody>\n",
       "</table>\n",
       "</div>"
      ],
      "text/plain": [
       "   UserID    Age Gender        Location      Income   Debt  Owns Property  \\\n",
       "0       1  56.0-    Mle        Pakistan  $82812.000   True           True   \n",
       "1       2  46.0-   Fmle         xMexico  $27999.000  False           True   \n",
       "2       3  32.0-   Fmle  xUnited States  $42436.000  False           True   \n",
       "3       4  60.0-    Mle         xBrazil  $62963.000   True          False   \n",
       "4       5  25.0-    Mle       xPakistan  $22096.000  False           True   \n",
       "\n",
       "          Profession Demographics   Platform  Total Time Spent  \\\n",
       "0       job:engineer        rURAL  INSTAGRAM                80   \n",
       "1         job:Artist        uRBAN  INSTAGRAM               228   \n",
       "2       job:engineer        rURAL   FACEBOOK                30   \n",
       "3  job:Waiting staff        rURAL    youtube               101   \n",
       "4        job:Manager        uRBAN     tiktok               136   \n",
       "\n",
       "  Number of Sessions  Video ID Video Category  Video Length Engagement  \\\n",
       "0             17.0.0      4229         Pranks          24.0   7867.0.0   \n",
       "1             14.0.0      2131         Pranks          19.0   5944.0.0   \n",
       "2              6.0.0      4367          Vlogs          19.0   8674.0.0   \n",
       "3             19.0.0      1507          Vlogs           4.0   2477.0.0   \n",
       "4              6.0.0      2159          Gming          19.0   3093.0.0   \n",
       "\n",
       "   Importance Score Time Spent On Video  Number of Videos Watched Scroll Rate  \\\n",
       "0                 5              26.0.0                      22.0         87:   \n",
       "1                 6              25.0.0                      31.0         46:   \n",
       "2                 3               9.0.0                       7.0         88:   \n",
       "3                 2               6.0.0                      41.0         93:   \n",
       "4                 7              13.0.0                      21.0          4:   \n",
       "\n",
       "   Frequency ProductivityLoss Satisfaction      Watch Reason DeviceType  \\\n",
       "0      Night            3.0.0        7.0.:  /Procrastination  Smrtphone   \n",
       "1  Afternoon            5.0.0        5.0.:            /Habit   Computer   \n",
       "2    Evening            6.0.0        4.0.:    /Entertainment    Tablett   \n",
       "3      Night            3.0.0        7.0.:            /Habit  Smrtphone   \n",
       "4    Morning            8.0.0        2.0.:          /Boredom  Smrtphone   \n",
       "\n",
       "        OS Watch Time Self Control Addiction Level CurrentActivity  \\\n",
       "0  Android    9:00 PM        5.0.0           5.0.0       Commuting   \n",
       "1  Android    5:00 PM        7.0.0           3.0.0        Atschool   \n",
       "2  Android    2:00 PM        8.0.0           2.0.0          Athome   \n",
       "3  Android    9:00 PM        5.0.0           5.0.0       Commuting   \n",
       "4      iOS    8:00 AM       10.0.0           0.0.0          Athome   \n",
       "\n",
       "  ConnectionType  id  \n",
       "0    Mobile-Data   1  \n",
       "1          Wi-Fi   2  \n",
       "2    Mobile-Data   3  \n",
       "3    Mobile-Data   4  \n",
       "4    Mobile-Data   5  "
      ]
     },
     "execution_count": 178,
     "metadata": {},
     "output_type": "execute_result"
    }
   ],
   "source": [
    "df.head()"
   ]
  },
  {
   "cell_type": "code",
   "execution_count": 179,
   "metadata": {},
   "outputs": [
    {
     "data": {
      "text/html": [
       "<div>\n",
       "<style scoped>\n",
       "    .dataframe tbody tr th:only-of-type {\n",
       "        vertical-align: middle;\n",
       "    }\n",
       "\n",
       "    .dataframe tbody tr th {\n",
       "        vertical-align: top;\n",
       "    }\n",
       "\n",
       "    .dataframe thead th {\n",
       "        text-align: right;\n",
       "    }\n",
       "</style>\n",
       "<table border=\"1\" class=\"dataframe\">\n",
       "  <thead>\n",
       "    <tr style=\"text-align: right;\">\n",
       "      <th></th>\n",
       "      <th>UserID</th>\n",
       "      <th>Total Time Spent</th>\n",
       "      <th>Video ID</th>\n",
       "      <th>Video Length</th>\n",
       "      <th>Importance Score</th>\n",
       "      <th>Number of Videos Watched</th>\n",
       "      <th>id</th>\n",
       "    </tr>\n",
       "  </thead>\n",
       "  <tbody>\n",
       "    <tr>\n",
       "      <th>count</th>\n",
       "      <td>1004.000000</td>\n",
       "      <td>1004.000000</td>\n",
       "      <td>1004.000000</td>\n",
       "      <td>1004.000000</td>\n",
       "      <td>1004.000000</td>\n",
       "      <td>1004.000000</td>\n",
       "      <td>1004.000000</td>\n",
       "    </tr>\n",
       "    <tr>\n",
       "      <th>mean</th>\n",
       "      <td>500.646414</td>\n",
       "      <td>151.485060</td>\n",
       "      <td>4895.475100</td>\n",
       "      <td>15.192231</td>\n",
       "      <td>5.137450</td>\n",
       "      <td>25.210159</td>\n",
       "      <td>500.646414</td>\n",
       "    </tr>\n",
       "    <tr>\n",
       "      <th>std</th>\n",
       "      <td>288.452182</td>\n",
       "      <td>83.861021</td>\n",
       "      <td>2851.762232</td>\n",
       "      <td>8.231926</td>\n",
       "      <td>2.585918</td>\n",
       "      <td>14.028267</td>\n",
       "      <td>288.452182</td>\n",
       "    </tr>\n",
       "    <tr>\n",
       "      <th>min</th>\n",
       "      <td>1.000000</td>\n",
       "      <td>10.000000</td>\n",
       "      <td>11.000000</td>\n",
       "      <td>1.000000</td>\n",
       "      <td>1.000000</td>\n",
       "      <td>1.000000</td>\n",
       "      <td>1.000000</td>\n",
       "    </tr>\n",
       "    <tr>\n",
       "      <th>25%</th>\n",
       "      <td>251.750000</td>\n",
       "      <td>78.000000</td>\n",
       "      <td>2569.000000</td>\n",
       "      <td>8.000000</td>\n",
       "      <td>3.000000</td>\n",
       "      <td>14.000000</td>\n",
       "      <td>251.750000</td>\n",
       "    </tr>\n",
       "    <tr>\n",
       "      <th>50%</th>\n",
       "      <td>500.500000</td>\n",
       "      <td>152.500000</td>\n",
       "      <td>4720.500000</td>\n",
       "      <td>15.000000</td>\n",
       "      <td>5.000000</td>\n",
       "      <td>25.000000</td>\n",
       "      <td>500.500000</td>\n",
       "    </tr>\n",
       "    <tr>\n",
       "      <th>75%</th>\n",
       "      <td>750.250000</td>\n",
       "      <td>223.000000</td>\n",
       "      <td>7346.000000</td>\n",
       "      <td>22.000000</td>\n",
       "      <td>7.000000</td>\n",
       "      <td>37.000000</td>\n",
       "      <td>750.250000</td>\n",
       "    </tr>\n",
       "    <tr>\n",
       "      <th>max</th>\n",
       "      <td>1000.000000</td>\n",
       "      <td>298.000000</td>\n",
       "      <td>9997.000000</td>\n",
       "      <td>29.000000</td>\n",
       "      <td>9.000000</td>\n",
       "      <td>49.000000</td>\n",
       "      <td>1000.000000</td>\n",
       "    </tr>\n",
       "  </tbody>\n",
       "</table>\n",
       "</div>"
      ],
      "text/plain": [
       "            UserID  Total Time Spent     Video ID  Video Length  \\\n",
       "count  1004.000000       1004.000000  1004.000000   1004.000000   \n",
       "mean    500.646414        151.485060  4895.475100     15.192231   \n",
       "std     288.452182         83.861021  2851.762232      8.231926   \n",
       "min       1.000000         10.000000    11.000000      1.000000   \n",
       "25%     251.750000         78.000000  2569.000000      8.000000   \n",
       "50%     500.500000        152.500000  4720.500000     15.000000   \n",
       "75%     750.250000        223.000000  7346.000000     22.000000   \n",
       "max    1000.000000        298.000000  9997.000000     29.000000   \n",
       "\n",
       "       Importance Score  Number of Videos Watched           id  \n",
       "count       1004.000000               1004.000000  1004.000000  \n",
       "mean           5.137450                 25.210159   500.646414  \n",
       "std            2.585918                 14.028267   288.452182  \n",
       "min            1.000000                  1.000000     1.000000  \n",
       "25%            3.000000                 14.000000   251.750000  \n",
       "50%            5.000000                 25.000000   500.500000  \n",
       "75%            7.000000                 37.000000   750.250000  \n",
       "max            9.000000                 49.000000  1000.000000  "
      ]
     },
     "execution_count": 179,
     "metadata": {},
     "output_type": "execute_result"
    }
   ],
   "source": [
    "df.describe()"
   ]
  },
  {
   "cell_type": "code",
   "execution_count": 180,
   "metadata": {},
   "outputs": [
    {
     "name": "stdout",
     "output_type": "stream",
     "text": [
      "<class 'pandas.core.frame.DataFrame'>\n",
      "RangeIndex: 1004 entries, 0 to 1003\n",
      "Data columns (total 32 columns):\n",
      " #   Column                    Non-Null Count  Dtype  \n",
      "---  ------                    --------------  -----  \n",
      " 0   UserID                    1004 non-null   int64  \n",
      " 1   Age                       1004 non-null   object \n",
      " 2   Gender                    1004 non-null   object \n",
      " 3   Location                  1004 non-null   object \n",
      " 4   Income                    1004 non-null   object \n",
      " 5   Debt                      1004 non-null   bool   \n",
      " 6   Owns Property             1004 non-null   bool   \n",
      " 7   Profession                1004 non-null   object \n",
      " 8   Demographics              1004 non-null   object \n",
      " 9   Platform                  1004 non-null   object \n",
      " 10  Total Time Spent          1004 non-null   int64  \n",
      " 11  Number of Sessions        1004 non-null   object \n",
      " 12  Video ID                  1004 non-null   int64  \n",
      " 13  Video Category            1004 non-null   object \n",
      " 14  Video Length              1004 non-null   float64\n",
      " 15  Engagement                1004 non-null   object \n",
      " 16  Importance Score          1004 non-null   int64  \n",
      " 17  Time Spent On Video       1004 non-null   object \n",
      " 18  Number of Videos Watched  1004 non-null   float64\n",
      " 19  Scroll Rate               1004 non-null   object \n",
      " 20  Frequency                 1004 non-null   object \n",
      " 21  ProductivityLoss          1004 non-null   object \n",
      " 22  Satisfaction              1004 non-null   object \n",
      " 23  Watch Reason              1004 non-null   object \n",
      " 24  DeviceType                1004 non-null   object \n",
      " 25  OS                        1004 non-null   object \n",
      " 26  Watch Time                1004 non-null   object \n",
      " 27  Self Control              1004 non-null   object \n",
      " 28  Addiction Level           1004 non-null   object \n",
      " 29  CurrentActivity           1004 non-null   object \n",
      " 30  ConnectionType            1004 non-null   object \n",
      " 31  id                        1004 non-null   int64  \n",
      "dtypes: bool(2), float64(2), int64(5), object(23)\n",
      "memory usage: 237.4+ KB\n"
     ]
    }
   ],
   "source": [
    "df.info()"
   ]
  },
  {
   "cell_type": "markdown",
   "metadata": {},
   "source": [
    "### Data Cleaning"
   ]
  },
  {
   "cell_type": "code",
   "execution_count": 181,
   "metadata": {},
   "outputs": [
    {
     "data": {
      "text/html": [
       "<div>\n",
       "<style scoped>\n",
       "    .dataframe tbody tr th:only-of-type {\n",
       "        vertical-align: middle;\n",
       "    }\n",
       "\n",
       "    .dataframe tbody tr th {\n",
       "        vertical-align: top;\n",
       "    }\n",
       "\n",
       "    .dataframe thead th {\n",
       "        text-align: right;\n",
       "    }\n",
       "</style>\n",
       "<table border=\"1\" class=\"dataframe\">\n",
       "  <thead>\n",
       "    <tr style=\"text-align: right;\">\n",
       "      <th></th>\n",
       "      <th>UserID</th>\n",
       "      <th>Debt</th>\n",
       "      <th>Owns Property</th>\n",
       "      <th>Total Time Spent</th>\n",
       "      <th>Video ID</th>\n",
       "      <th>Video Length</th>\n",
       "      <th>Importance Score</th>\n",
       "      <th>Number of Videos Watched</th>\n",
       "      <th>id</th>\n",
       "    </tr>\n",
       "  </thead>\n",
       "  <tbody>\n",
       "    <tr>\n",
       "      <th>UserID</th>\n",
       "      <td>1.000000</td>\n",
       "      <td>0.059113</td>\n",
       "      <td>0.082451</td>\n",
       "      <td>0.036535</td>\n",
       "      <td>0.002112</td>\n",
       "      <td>-0.035992</td>\n",
       "      <td>0.009502</td>\n",
       "      <td>0.001947</td>\n",
       "      <td>1.000000</td>\n",
       "    </tr>\n",
       "    <tr>\n",
       "      <th>Debt</th>\n",
       "      <td>0.059113</td>\n",
       "      <td>1.000000</td>\n",
       "      <td>0.005540</td>\n",
       "      <td>-0.016933</td>\n",
       "      <td>-0.006209</td>\n",
       "      <td>0.000363</td>\n",
       "      <td>0.006598</td>\n",
       "      <td>0.011549</td>\n",
       "      <td>0.059113</td>\n",
       "    </tr>\n",
       "    <tr>\n",
       "      <th>Owns Property</th>\n",
       "      <td>0.082451</td>\n",
       "      <td>0.005540</td>\n",
       "      <td>1.000000</td>\n",
       "      <td>-0.021724</td>\n",
       "      <td>-0.033039</td>\n",
       "      <td>0.075179</td>\n",
       "      <td>0.013324</td>\n",
       "      <td>-0.053226</td>\n",
       "      <td>0.082451</td>\n",
       "    </tr>\n",
       "    <tr>\n",
       "      <th>Total Time Spent</th>\n",
       "      <td>0.036535</td>\n",
       "      <td>-0.016933</td>\n",
       "      <td>-0.021724</td>\n",
       "      <td>1.000000</td>\n",
       "      <td>-0.017407</td>\n",
       "      <td>0.068119</td>\n",
       "      <td>-0.044007</td>\n",
       "      <td>-0.020857</td>\n",
       "      <td>0.036535</td>\n",
       "    </tr>\n",
       "    <tr>\n",
       "      <th>Video ID</th>\n",
       "      <td>0.002112</td>\n",
       "      <td>-0.006209</td>\n",
       "      <td>-0.033039</td>\n",
       "      <td>-0.017407</td>\n",
       "      <td>1.000000</td>\n",
       "      <td>-0.035146</td>\n",
       "      <td>0.011327</td>\n",
       "      <td>0.041680</td>\n",
       "      <td>0.002112</td>\n",
       "    </tr>\n",
       "    <tr>\n",
       "      <th>Video Length</th>\n",
       "      <td>-0.035992</td>\n",
       "      <td>0.000363</td>\n",
       "      <td>0.075179</td>\n",
       "      <td>0.068119</td>\n",
       "      <td>-0.035146</td>\n",
       "      <td>1.000000</td>\n",
       "      <td>-0.017869</td>\n",
       "      <td>0.038631</td>\n",
       "      <td>-0.035992</td>\n",
       "    </tr>\n",
       "    <tr>\n",
       "      <th>Importance Score</th>\n",
       "      <td>0.009502</td>\n",
       "      <td>0.006598</td>\n",
       "      <td>0.013324</td>\n",
       "      <td>-0.044007</td>\n",
       "      <td>0.011327</td>\n",
       "      <td>-0.017869</td>\n",
       "      <td>1.000000</td>\n",
       "      <td>-0.046008</td>\n",
       "      <td>0.009502</td>\n",
       "    </tr>\n",
       "    <tr>\n",
       "      <th>Number of Videos Watched</th>\n",
       "      <td>0.001947</td>\n",
       "      <td>0.011549</td>\n",
       "      <td>-0.053226</td>\n",
       "      <td>-0.020857</td>\n",
       "      <td>0.041680</td>\n",
       "      <td>0.038631</td>\n",
       "      <td>-0.046008</td>\n",
       "      <td>1.000000</td>\n",
       "      <td>0.001947</td>\n",
       "    </tr>\n",
       "    <tr>\n",
       "      <th>id</th>\n",
       "      <td>1.000000</td>\n",
       "      <td>0.059113</td>\n",
       "      <td>0.082451</td>\n",
       "      <td>0.036535</td>\n",
       "      <td>0.002112</td>\n",
       "      <td>-0.035992</td>\n",
       "      <td>0.009502</td>\n",
       "      <td>0.001947</td>\n",
       "      <td>1.000000</td>\n",
       "    </tr>\n",
       "  </tbody>\n",
       "</table>\n",
       "</div>"
      ],
      "text/plain": [
       "                            UserID      Debt  Owns Property  Total Time Spent  \\\n",
       "UserID                    1.000000  0.059113       0.082451          0.036535   \n",
       "Debt                      0.059113  1.000000       0.005540         -0.016933   \n",
       "Owns Property             0.082451  0.005540       1.000000         -0.021724   \n",
       "Total Time Spent          0.036535 -0.016933      -0.021724          1.000000   \n",
       "Video ID                  0.002112 -0.006209      -0.033039         -0.017407   \n",
       "Video Length             -0.035992  0.000363       0.075179          0.068119   \n",
       "Importance Score          0.009502  0.006598       0.013324         -0.044007   \n",
       "Number of Videos Watched  0.001947  0.011549      -0.053226         -0.020857   \n",
       "id                        1.000000  0.059113       0.082451          0.036535   \n",
       "\n",
       "                          Video ID  Video Length  Importance Score  \\\n",
       "UserID                    0.002112     -0.035992          0.009502   \n",
       "Debt                     -0.006209      0.000363          0.006598   \n",
       "Owns Property            -0.033039      0.075179          0.013324   \n",
       "Total Time Spent         -0.017407      0.068119         -0.044007   \n",
       "Video ID                  1.000000     -0.035146          0.011327   \n",
       "Video Length             -0.035146      1.000000         -0.017869   \n",
       "Importance Score          0.011327     -0.017869          1.000000   \n",
       "Number of Videos Watched  0.041680      0.038631         -0.046008   \n",
       "id                        0.002112     -0.035992          0.009502   \n",
       "\n",
       "                          Number of Videos Watched        id  \n",
       "UserID                                    0.001947  1.000000  \n",
       "Debt                                      0.011549  0.059113  \n",
       "Owns Property                            -0.053226  0.082451  \n",
       "Total Time Spent                         -0.020857  0.036535  \n",
       "Video ID                                  0.041680  0.002112  \n",
       "Video Length                              0.038631 -0.035992  \n",
       "Importance Score                         -0.046008  0.009502  \n",
       "Number of Videos Watched                  1.000000  0.001947  \n",
       "id                                        0.001947  1.000000  "
      ]
     },
     "execution_count": 181,
     "metadata": {},
     "output_type": "execute_result"
    }
   ],
   "source": [
    "corr = df.corr(numeric_only=True)\n",
    "corr"
   ]
  },
  {
   "cell_type": "code",
   "execution_count": 182,
   "metadata": {},
   "outputs": [
    {
     "data": {
      "image/png": "[encoded data removed]",
      "text/plain": [
       "<Figure size 640x480 with 2 Axes>"
      ]
     },
     "metadata": {},
     "output_type": "display_data"
    }
   ],
   "source": [
    "heatmap = sns.heatmap(corr, cmap=\"RdYlBu\", annot=True, fmt=\".2f\", linewidths=0.5)\n"
   ]
  },
  {
   "cell_type": "markdown",
   "metadata": {},
   "source": [
    "Now I will deal with null values (if any)."
   ]
  },
  {
   "cell_type": "code",
   "execution_count": 183,
   "metadata": {},
   "outputs": [
    {
     "data": {
      "text/plain": [
       "UserID  Age    Gender  Location  Income  Debt   Owns Property  Profession  Demographics  Platform  Total Time Spent  Number of Sessions  Video ID  Video Category  Video Length  Engagement  Importance Score  Time Spent On Video  Number of Videos Watched  Scroll Rate  Frequency  ProductivityLoss  Satisfaction  Watch Reason  DeviceType  OS     Watch Time  Self Control  Addiction Level  CurrentActivity  ConnectionType  id   \n",
       "False   False  False   False     False   False  False          False       False         False     False             False               False     False           False         False       False             False                False                     False        False      False             False         False         False       False  False       False         False            False            False           False    1004\n",
       "Name: count, dtype: int64"
      ]
     },
     "execution_count": 183,
     "metadata": {},
     "output_type": "execute_result"
    }
   ],
   "source": [
    "df.isna().value_counts()"
   ]
  },
  {
   "cell_type": "markdown",
   "metadata": {},
   "source": [
    "Since there are no null values I will not have to deal with them.\n",
    "\n",
    "Now let us remove the columns which will not add any value."
   ]
  },
  {
   "cell_type": "code",
   "execution_count": 184,
   "metadata": {},
   "outputs": [
    {
     "name": "stdout",
     "output_type": "stream",
     "text": [
      "Self Control\n",
      "8.0.0     248\n",
      "5.0.0     230\n",
      "10.0.0    180\n",
      "7.0.0     159\n",
      "9.0.0      62\n",
      "3.0.0      55\n",
      "6.0.0      36\n",
      "4.0.0      34\n",
      "Name: count, dtype: int64\n",
      "Addiction Level\n",
      "2.0.0    248\n",
      "5.0.0    230\n",
      "0.0.0    180\n",
      "3.0.0    159\n",
      "1.0.0     62\n",
      "7.0.0     55\n",
      "4.0.0     36\n",
      "6.0.0     34\n",
      "Name: count, dtype: int64\n",
      "ProductivityLoss\n",
      "6.0.0    247\n",
      "3.0.0    230\n",
      "5.0.0    158\n",
      "8.0.0    145\n",
      "7.0.0     62\n",
      "1.0.0     55\n",
      "9.0.0     37\n",
      "4.0.0     36\n",
      "2.0.0     34\n",
      "Name: count, dtype: int64\n"
     ]
    }
   ],
   "source": [
    "print(df[\"Self Control\"].value_counts())\n",
    "print(df[\"Addiction Level\"].value_counts())\n",
    "print(df[\"ProductivityLoss\"].value_counts())"
   ]
  },
  {
   "cell_type": "code",
   "execution_count": null,
   "metadata": {},
   "outputs": [],
   "source": [
    "useless_cols = [\n",
    "    \"UserID\",\n",
    "    \"Video Category\"\n",
    "    \"Platform\",\n",
    "    \"Engagement\",\n",
    "    \"Importance Score\",\n",
    "    \"Video ID\",\n",
    "    \"Time Spent On Video\",\n",
    "    \"Scroll Rate\",\n",
    "    \"Frequency\",\n",
    "    \"Satisfaction\",\n",
    "    \"CurrentActivity\",\n",
    "    \"Watch Time\",\n",
    "    \"id\",\n",
    "    \"Video Length\",\n",
    "    \"ProductivityLoss\"\n",
    "]\n",
    "df.drop(columns=useless_cols, inplace=True)\n"
   ]
  },
  {
   "cell_type": "markdown",
   "metadata": {},
   "source": [
    "We have now dropped all the useless columns which are not useful in out current task.\n",
    "Here I have created a list of columns based on their data type for further use."
   ]
  },
  {
   "cell_type": "code",
   "execution_count": 237,
   "metadata": {},
   "outputs": [
    {
     "name": "stdout",
     "output_type": "stream",
     "text": [
      "<class 'pandas.core.frame.DataFrame'>\n",
      "Index: 994 entries, 0 to 1003\n",
      "Data columns (total 17 columns):\n",
      " #   Column                    Non-Null Count  Dtype  \n",
      "---  ------                    --------------  -----  \n",
      " 0   Age                       994 non-null    int64  \n",
      " 1   Gender                    994 non-null    object \n",
      " 2   Location                  994 non-null    object \n",
      " 3   Income                    994 non-null    float64\n",
      " 4   Debt                      994 non-null    int64  \n",
      " 5   Owns Property             994 non-null    int64  \n",
      " 6   Profession                994 non-null    object \n",
      " 7   Demographics              994 non-null    object \n",
      " 8   Total Time Spent          994 non-null    int64  \n",
      " 9   Number of Sessions        994 non-null    float64\n",
      " 10  Number of Videos Watched  994 non-null    float64\n",
      " 11  Watch Reason              994 non-null    object \n",
      " 12  DeviceType                994 non-null    object \n",
      " 13  OS                        994 non-null    object \n",
      " 14  Self Control              994 non-null    float64\n",
      " 15  Addiction Level           817 non-null    float64\n",
      " 16  ConnectionType            994 non-null    object \n",
      "dtypes: float64(5), int64(4), object(8)\n",
      "memory usage: 139.8+ KB\n"
     ]
    }
   ],
   "source": [
    "df.info()"
   ]
  },
  {
   "cell_type": "code",
   "execution_count": 238,
   "metadata": {},
   "outputs": [
    {
     "data": {
      "text/plain": [
       "True"
      ]
     },
     "execution_count": 238,
     "metadata": {},
     "output_type": "execute_result"
    }
   ],
   "source": [
    "text_cols = [\n",
    "    \"Age\",\n",
    "    \"Gender\",\n",
    "    \"Location\",\n",
    "    \"Income\",\n",
    "    \"Profession\",\n",
    "    \"Demographics\",\n",
    "    \"Number of Sessions\",\n",
    "    \"Watch Reason\",\n",
    "    \"DeviceType\",\n",
    "    \"OS\",\n",
    "    \"Self Control\",\n",
    "    \"Addiction Level\",\n",
    "    \"ConnectionType\",\n",
    "]\n",
    "int_cols = [\n",
    "    \"Total Time Spent\",\n",
    "    \"Number of Videos Watched\",\n",
    "]\n",
    "boolean_cols = [\n",
    "    \"Debt\",\n",
    "    \"Owns Property\",\n",
    "]\n",
    "\n",
    "# Making sure all the columns are included.\n",
    "len(text_cols + int_cols + boolean_cols) == len(df.columns)"
   ]
  },
  {
   "cell_type": "markdown",
   "metadata": {},
   "source": [
    "Now we will have to clean and pre-process data for further use. We will need to pre process the following columns,\n",
    "\n",
    "**A. Convert the following columns into numerical formats.**\n",
    "1. Age\n",
    "2. Income\n",
    "3. Number of Sessions\n",
    "4. Self Control\n",
    "5. Addiction Level\n",
    "6. Debt\n",
    "7. Owns Property\n",
    "\n",
    "**B. We will also have prepare these columns for one hot encoding,**\n",
    "1. Gender\n",
    "2. Location  (Also remove leading `x` in some records)\n",
    "3. Profession\n",
    "4. Demographics\n",
    "5. Watch Reason\n",
    "6. DeviceType\n",
    "7. OS\n",
    "8. ConnectionType\n"
   ]
  },
  {
   "cell_type": "code",
   "execution_count": 206,
   "metadata": {},
   "outputs": [],
   "source": [
    "# Converting all the Age to numerical values.\n",
    "df[\"Age\"] = df[\"Age\"].astype(str).apply(lambda x: x.replace(\".0-\", \"\"))\n",
    "df[\"Age\"] = pd.to_numeric(df[\"Age\"], errors=\"coerce\")\n",
    "df[\"Age\"] = df[\"Age\"].fillna(0)\n",
    "df[\"Age\"] = df[\"Age\"].astype(int)\n",
    "df = df[df[\"Age\"] != 0]"
   ]
  },
  {
   "cell_type": "code",
   "execution_count": 210,
   "metadata": {},
   "outputs": [
    {
     "data": {
      "text/plain": [
       "count      994.000000\n",
       "mean     59552.042254\n",
       "std      23786.782183\n",
       "min      20138.000000\n",
       "25%      38531.250000\n",
       "50%      58805.000000\n",
       "75%      80046.250000\n",
       "max      99676.000000\n",
       "Name: Income, dtype: float64"
      ]
     },
     "execution_count": 210,
     "metadata": {},
     "output_type": "execute_result"
    }
   ],
   "source": [
    "# Converting all the Income to Numerical values.\n",
    "df[\"Income\"] = df[\"Income\"].astype(str).apply(lambda x: x.replace(\"$\", \"\"))\n",
    "df[\"Income\"] = pd.to_numeric(df[\"Income\"])\n",
    "df[\"Income\"].describe()"
   ]
  },
  {
   "cell_type": "code",
   "execution_count": 208,
   "metadata": {},
   "outputs": [
    {
     "data": {
      "text/plain": [
       "count      994.000000\n",
       "mean     59552.042254\n",
       "std      23786.782183\n",
       "min      20138.000000\n",
       "25%      38531.250000\n",
       "50%      58805.000000\n",
       "75%      80046.250000\n",
       "max      99676.000000\n",
       "Name: Income, dtype: float64"
      ]
     },
     "execution_count": 208,
     "metadata": {},
     "output_type": "execute_result"
    }
   ],
   "source": [
    "df[\"Income\"].describe()"
   ]
  },
  {
   "cell_type": "code",
   "execution_count": null,
   "metadata": {},
   "outputs": [],
   "source": [
    "# We will convert `Number of Sessions`, `Self Control`, and `Addiction Level`into numerical values simultaneously as they possess same type.\n",
    "\n",
    "def convert_into_num(x):\n",
    "    return x.replace(\"0.0\", \"\")\n",
    "\n",
    "df[\"Number of Sessions\"] = df[\"Number of Sessions\"].astype(str).apply(convert_into_num)\n",
    "df[\"Self Control\"] = df[\"Self Control\"].astype(str).apply(convert_into_num)\n",
    "df[\"Addiction Level\"] = df[\"Addiction Level\"].astype(str).apply(convert_into_num)\n",
    "\n",
    "df[\"Number of Sessions\"] = pd.to_numeric(df[\"Number of Sessions\"])\n",
    "df[\"Self Control\"] = pd.to_numeric(df[\"Self Control\"])\n",
    "df[\"Addiction Level\"] = pd.to_numeric(df[\"Addiction Level\"])"
   ]
  },
  {
   "cell_type": "code",
   "execution_count": 233,
   "metadata": {},
   "outputs": [],
   "source": [
    "df[\"Debt\"] = df[\"Debt\"].apply(lambda x: x == 1 if x else 0)\n",
    "df[\"Owns Property\"] = df[\"Owns Property\"].apply(lambda x: x == 1 if x else 0)\n",
    "df[\"Debt\"] = pd.to_numeric(df[\"Debt\"])\n",
    "df[\"Owns Property\"] = pd.to_numeric(df[\"Owns Property\"])"
   ]
  },
  {
   "cell_type": "code",
   "execution_count": 234,
   "metadata": {},
   "outputs": [
    {
     "data": {
      "text/html": [
       "<div>\n",
       "<style scoped>\n",
       "    .dataframe tbody tr th:only-of-type {\n",
       "        vertical-align: middle;\n",
       "    }\n",
       "\n",
       "    .dataframe tbody tr th {\n",
       "        vertical-align: top;\n",
       "    }\n",
       "\n",
       "    .dataframe thead th {\n",
       "        text-align: right;\n",
       "    }\n",
       "</style>\n",
       "<table border=\"1\" class=\"dataframe\">\n",
       "  <thead>\n",
       "    <tr style=\"text-align: right;\">\n",
       "      <th></th>\n",
       "      <th>Age</th>\n",
       "      <th>Income</th>\n",
       "      <th>Debt</th>\n",
       "      <th>Owns Property</th>\n",
       "      <th>Total Time Spent</th>\n",
       "      <th>Number of Sessions</th>\n",
       "      <th>Number of Videos Watched</th>\n",
       "      <th>ProductivityLoss</th>\n",
       "      <th>Self Control</th>\n",
       "      <th>Addiction Level</th>\n",
       "    </tr>\n",
       "  </thead>\n",
       "  <tbody>\n",
       "    <tr>\n",
       "      <th>count</th>\n",
       "      <td>994.000000</td>\n",
       "      <td>994.000000</td>\n",
       "      <td>994.000000</td>\n",
       "      <td>994.000000</td>\n",
       "      <td>994.000000</td>\n",
       "      <td>994.000000</td>\n",
       "      <td>994.000000</td>\n",
       "      <td>994.000000</td>\n",
       "      <td>994.000000</td>\n",
       "      <td>817.000000</td>\n",
       "    </tr>\n",
       "    <tr>\n",
       "      <th>mean</th>\n",
       "      <td>40.969819</td>\n",
       "      <td>59552.042254</td>\n",
       "      <td>0.598592</td>\n",
       "      <td>0.542254</td>\n",
       "      <td>151.769618</td>\n",
       "      <td>9.476861</td>\n",
       "      <td>25.153924</td>\n",
       "      <td>5.128773</td>\n",
       "      <td>5.483903</td>\n",
       "      <td>3.544676</td>\n",
       "    </tr>\n",
       "    <tr>\n",
       "      <th>std</th>\n",
       "      <td>13.550365</td>\n",
       "      <td>23786.782183</td>\n",
       "      <td>0.490430</td>\n",
       "      <td>0.498462</td>\n",
       "      <td>83.965035</td>\n",
       "      <td>5.816770</td>\n",
       "      <td>14.017664</td>\n",
       "      <td>2.125356</td>\n",
       "      <td>2.601464</td>\n",
       "      <td>1.711631</td>\n",
       "    </tr>\n",
       "    <tr>\n",
       "      <th>min</th>\n",
       "      <td>18.000000</td>\n",
       "      <td>20138.000000</td>\n",
       "      <td>0.000000</td>\n",
       "      <td>0.000000</td>\n",
       "      <td>10.000000</td>\n",
       "      <td>1.000000</td>\n",
       "      <td>1.000000</td>\n",
       "      <td>1.000000</td>\n",
       "      <td>1.000000</td>\n",
       "      <td>1.000000</td>\n",
       "    </tr>\n",
       "    <tr>\n",
       "      <th>25%</th>\n",
       "      <td>29.000000</td>\n",
       "      <td>38531.250000</td>\n",
       "      <td>0.000000</td>\n",
       "      <td>0.000000</td>\n",
       "      <td>79.000000</td>\n",
       "      <td>4.000000</td>\n",
       "      <td>14.000000</td>\n",
       "      <td>3.000000</td>\n",
       "      <td>4.000000</td>\n",
       "      <td>2.000000</td>\n",
       "    </tr>\n",
       "    <tr>\n",
       "      <th>50%</th>\n",
       "      <td>42.000000</td>\n",
       "      <td>58805.000000</td>\n",
       "      <td>1.000000</td>\n",
       "      <td>1.000000</td>\n",
       "      <td>153.000000</td>\n",
       "      <td>9.000000</td>\n",
       "      <td>25.000000</td>\n",
       "      <td>5.000000</td>\n",
       "      <td>6.000000</td>\n",
       "      <td>3.000000</td>\n",
       "    </tr>\n",
       "    <tr>\n",
       "      <th>75%</th>\n",
       "      <td>52.000000</td>\n",
       "      <td>80046.250000</td>\n",
       "      <td>1.000000</td>\n",
       "      <td>1.000000</td>\n",
       "      <td>223.000000</td>\n",
       "      <td>15.000000</td>\n",
       "      <td>37.000000</td>\n",
       "      <td>6.000000</td>\n",
       "      <td>8.000000</td>\n",
       "      <td>5.000000</td>\n",
       "    </tr>\n",
       "    <tr>\n",
       "      <th>max</th>\n",
       "      <td>64.000000</td>\n",
       "      <td>99676.000000</td>\n",
       "      <td>1.000000</td>\n",
       "      <td>1.000000</td>\n",
       "      <td>298.000000</td>\n",
       "      <td>19.000000</td>\n",
       "      <td>49.000000</td>\n",
       "      <td>9.000000</td>\n",
       "      <td>9.000000</td>\n",
       "      <td>7.000000</td>\n",
       "    </tr>\n",
       "  </tbody>\n",
       "</table>\n",
       "</div>"
      ],
      "text/plain": [
       "              Age        Income        Debt  Owns Property  Total Time Spent  \\\n",
       "count  994.000000    994.000000  994.000000     994.000000        994.000000   \n",
       "mean    40.969819  59552.042254    0.598592       0.542254        151.769618   \n",
       "std     13.550365  23786.782183    0.490430       0.498462         83.965035   \n",
       "min     18.000000  20138.000000    0.000000       0.000000         10.000000   \n",
       "25%     29.000000  38531.250000    0.000000       0.000000         79.000000   \n",
       "50%     42.000000  58805.000000    1.000000       1.000000        153.000000   \n",
       "75%     52.000000  80046.250000    1.000000       1.000000        223.000000   \n",
       "max     64.000000  99676.000000    1.000000       1.000000        298.000000   \n",
       "\n",
       "       Number of Sessions  Number of Videos Watched  ProductivityLoss  \\\n",
       "count          994.000000                994.000000        994.000000   \n",
       "mean             9.476861                 25.153924          5.128773   \n",
       "std              5.816770                 14.017664          2.125356   \n",
       "min              1.000000                  1.000000          1.000000   \n",
       "25%              4.000000                 14.000000          3.000000   \n",
       "50%              9.000000                 25.000000          5.000000   \n",
       "75%             15.000000                 37.000000          6.000000   \n",
       "max             19.000000                 49.000000          9.000000   \n",
       "\n",
       "       Self Control  Addiction Level  \n",
       "count    994.000000       817.000000  \n",
       "mean       5.483903         3.544676  \n",
       "std        2.601464         1.711631  \n",
       "min        1.000000         1.000000  \n",
       "25%        4.000000         2.000000  \n",
       "50%        6.000000         3.000000  \n",
       "75%        8.000000         5.000000  \n",
       "max        9.000000         7.000000  "
      ]
     },
     "execution_count": 234,
     "metadata": {},
     "output_type": "execute_result"
    }
   ],
   "source": [
    "df.describe()"
   ]
  },
  {
   "cell_type": "markdown",
   "metadata": {},
   "source": [
    "We have successfully converted all the object types to numeric values, now we will need to prepare the rest of columns for pre-processing."
   ]
  },
  {
   "cell_type": "code",
   "execution_count": 229,
   "metadata": {},
   "outputs": [
    {
     "data": {
      "text/html": [
       "<div>\n",
       "<style scoped>\n",
       "    .dataframe tbody tr th:only-of-type {\n",
       "        vertical-align: middle;\n",
       "    }\n",
       "\n",
       "    .dataframe tbody tr th {\n",
       "        vertical-align: top;\n",
       "    }\n",
       "\n",
       "    .dataframe thead th {\n",
       "        text-align: right;\n",
       "    }\n",
       "</style>\n",
       "<table border=\"1\" class=\"dataframe\">\n",
       "  <thead>\n",
       "    <tr style=\"text-align: right;\">\n",
       "      <th></th>\n",
       "      <th>Gender</th>\n",
       "      <th>Location</th>\n",
       "      <th>Profession</th>\n",
       "      <th>Demographics</th>\n",
       "      <th>Watch Reason</th>\n",
       "      <th>DeviceType</th>\n",
       "      <th>OS</th>\n",
       "      <th>ConnectionType</th>\n",
       "    </tr>\n",
       "  </thead>\n",
       "  <tbody>\n",
       "    <tr>\n",
       "      <th>0</th>\n",
       "      <td>male</td>\n",
       "      <td>pakistan</td>\n",
       "      <td>engineer</td>\n",
       "      <td>rural</td>\n",
       "      <td>rocrastination</td>\n",
       "      <td>smartphone</td>\n",
       "      <td>android</td>\n",
       "      <td>mobile_data</td>\n",
       "    </tr>\n",
       "    <tr>\n",
       "      <th>1</th>\n",
       "      <td>female</td>\n",
       "      <td>mexico</td>\n",
       "      <td>artist</td>\n",
       "      <td>urban</td>\n",
       "      <td>abit</td>\n",
       "      <td>computer</td>\n",
       "      <td>android</td>\n",
       "      <td>wi_fi</td>\n",
       "    </tr>\n",
       "    <tr>\n",
       "      <th>2</th>\n",
       "      <td>female</td>\n",
       "      <td>united_states</td>\n",
       "      <td>engineer</td>\n",
       "      <td>rural</td>\n",
       "      <td>ntertainment</td>\n",
       "      <td>tablet</td>\n",
       "      <td>android</td>\n",
       "      <td>mobile_data</td>\n",
       "    </tr>\n",
       "    <tr>\n",
       "      <th>3</th>\n",
       "      <td>male</td>\n",
       "      <td>brazil</td>\n",
       "      <td>waiting_staff</td>\n",
       "      <td>rural</td>\n",
       "      <td>abit</td>\n",
       "      <td>smartphone</td>\n",
       "      <td>android</td>\n",
       "      <td>mobile_data</td>\n",
       "    </tr>\n",
       "    <tr>\n",
       "      <th>4</th>\n",
       "      <td>male</td>\n",
       "      <td>pakistan</td>\n",
       "      <td>manager</td>\n",
       "      <td>urban</td>\n",
       "      <td>oredom</td>\n",
       "      <td>smartphone</td>\n",
       "      <td>ios</td>\n",
       "      <td>mobile_data</td>\n",
       "    </tr>\n",
       "  </tbody>\n",
       "</table>\n",
       "</div>"
      ],
      "text/plain": [
       "   Gender       Location     Profession Demographics    Watch Reason  \\\n",
       "0    male       pakistan       engineer        rural  rocrastination   \n",
       "1  female         mexico         artist        urban            abit   \n",
       "2  female  united_states       engineer        rural    ntertainment   \n",
       "3    male         brazil  waiting_staff        rural            abit   \n",
       "4    male       pakistan        manager        urban          oredom   \n",
       "\n",
       "   DeviceType       OS ConnectionType  \n",
       "0  smartphone  android    mobile_data  \n",
       "1    computer  android          wi_fi  \n",
       "2      tablet  android    mobile_data  \n",
       "3  smartphone  android    mobile_data  \n",
       "4  smartphone      ios    mobile_data  "
      ]
     },
     "execution_count": 229,
     "metadata": {},
     "output_type": "execute_result"
    }
   ],
   "source": [
    "df[[\"Gender\",\n",
    "\"Location\",\n",
    "\"Profession\",\n",
    "\"Demographics\",\n",
    "\"Watch Reason\",\n",
    "\"DeviceType\",\n",
    "\"OS\",\n",
    "\"ConnectionType\",]].head()"
   ]
  },
  {
   "cell_type": "code",
   "execution_count": 214,
   "metadata": {},
   "outputs": [
    {
     "data": {
      "text/plain": [
       "Gender\n",
       "male      508\n",
       "female    322\n",
       "others    164\n",
       "Name: count, dtype: int64"
      ]
     },
     "execution_count": 214,
     "metadata": {},
     "output_type": "execute_result"
    }
   ],
   "source": [
    "# Gender\n",
    "df[\"Gender\"] = df[\"Gender\"].apply(lambda x: x.replace(\"Fmle\", \"female\"))\n",
    "df[\"Gender\"] = df[\"Gender\"].apply(lambda x: x.replace(\"Mle\", \"male\"))\n",
    "df[\"Gender\"] = df[\"Gender\"].apply(lambda x: x.replace(\"Other\", \"others\"))\n",
    "df[\"Gender\"].value_counts()"
   ]
  },
  {
   "cell_type": "code",
   "execution_count": 215,
   "metadata": {},
   "outputs": [
    {
     "data": {
      "text/plain": [
       "Location\n",
       "india            221\n",
       "united_states    175\n",
       "vietnam           82\n",
       "philippines       79\n",
       "brazil            77\n",
       "pakistan          76\n",
       "japan             76\n",
       "indonesia         75\n",
       "mexico            73\n",
       "germany           60\n",
       "Name: count, dtype: int64"
      ]
     },
     "execution_count": 215,
     "metadata": {},
     "output_type": "execute_result"
    }
   ],
   "source": [
    "def clean_country_name(x):\n",
    "    if (x[0] == \"x\"):\n",
    "        x = x[1:]\n",
    "    x = x.replace(\" \", \"_\")\n",
    "    x = x.lower()\n",
    "    return x\n",
    "\n",
    "df[\"Location\"] = df[\"Location\"].apply(clean_country_name)\n",
    "df[\"Location\"].value_counts()"
   ]
  },
  {
   "cell_type": "code",
   "execution_count": 216,
   "metadata": {},
   "outputs": [
    {
     "data": {
      "text/plain": [
       "Profession\n",
       "students         246\n",
       "waiting_staff    192\n",
       "labor/worker     183\n",
       "driver           113\n",
       "engineer          65\n",
       "cashier           55\n",
       "manager           54\n",
       "artist            47\n",
       "teacher           39\n",
       "Name: count, dtype: int64"
      ]
     },
     "execution_count": 216,
     "metadata": {},
     "output_type": "execute_result"
    }
   ],
   "source": [
    "def clean_profession(x):\n",
    "    x = x.replace(\"job:\", \"\")\n",
    "    x = x.replace(\" \", \"_\")\n",
    "    x = x.lower()\n",
    "    return x\n",
    "\n",
    "df[\"Profession\"] = df[\"Profession\"].apply(clean_profession)\n",
    "df[\"Profession\"].value_counts()"
   ]
  },
  {
   "cell_type": "code",
   "execution_count": 217,
   "metadata": {},
   "outputs": [
    {
     "data": {
      "text/plain": [
       "Demographics\n",
       "rural    739\n",
       "urban    255\n",
       "Name: count, dtype: int64"
      ]
     },
     "execution_count": 217,
     "metadata": {},
     "output_type": "execute_result"
    }
   ],
   "source": [
    "df[\"Demographics\"] = df[\"Demographics\"].apply(lambda x: x.lower())\n",
    "df[\"Demographics\"].value_counts()"
   ]
  },
  {
   "cell_type": "code",
   "execution_count": 222,
   "metadata": {},
   "outputs": [
    {
     "data": {
      "text/plain": [
       "Watch Reason\n",
       "abit              339\n",
       "oredom            274\n",
       "ntertainment      262\n",
       "rocrastination    119\n",
       "Name: count, dtype: int64"
      ]
     },
     "execution_count": 222,
     "metadata": {},
     "output_type": "execute_result"
    }
   ],
   "source": [
    "df[\"Watch Reason\"] = df[\"Watch Reason\"].apply(lambda x: x[1:].lower())\n",
    "df[\"Watch Reason\"].value_counts()"
   ]
  },
  {
   "cell_type": "code",
   "execution_count": 224,
   "metadata": {},
   "outputs": [
    {
     "data": {
      "text/plain": [
       "DeviceType\n",
       "smartphone    582\n",
       "tablet        281\n",
       "computer      131\n",
       "Name: count, dtype: int64"
      ]
     },
     "execution_count": 224,
     "metadata": {},
     "output_type": "execute_result"
    }
   ],
   "source": [
    "def clean_device_type(x):\n",
    "    x = x.replace(\"Smrtphone\", \"smartphone\")\n",
    "    x = x.replace(\"Tablett\", \"tablet\")\n",
    "    x = x.replace(\"Computer\", \"computer\")\n",
    "    return x\n",
    "df[\"DeviceType\"] = df[\"DeviceType\"].apply(clean_device_type)\n",
    "df[\"DeviceType\"].value_counts()"
   ]
  },
  {
   "cell_type": "code",
   "execution_count": 226,
   "metadata": {},
   "outputs": [
    {
     "data": {
      "text/plain": [
       "OS\n",
       "android    497\n",
       "ios        259\n",
       "windows    123\n",
       "macos      115\n",
       "Name: count, dtype: int64"
      ]
     },
     "execution_count": 226,
     "metadata": {},
     "output_type": "execute_result"
    }
   ],
   "source": [
    "df[\"OS\"] = df[\"OS\"].apply(lambda x: x.lower())\n",
    "df[\"OS\"].value_counts()"
   ]
  },
  {
   "cell_type": "code",
   "execution_count": null,
   "metadata": {},
   "outputs": [
    {
     "data": {
      "text/plain": [
       "ConnectionType\n",
       "mobile_data    681\n",
       "wifi           313\n",
       "Name: count, dtype: int64"
      ]
     },
     "execution_count": 240,
     "metadata": {},
     "output_type": "execute_result"
    }
   ],
   "source": [
    "df[\"ConnectionType\"] = df[\"ConnectionType\"].apply(lambda x: x.replace(\"Wi-Fi\",\"wifi\").replace(\"-\", \"_\").lower())\n",
    "df[\"ConnectionType\"].value_counts()"
   ]
  },
  {
   "cell_type": "code",
   "execution_count": 239,
   "metadata": {},
   "outputs": [
    {
     "data": {
      "text/html": [
       "<div>\n",
       "<style scoped>\n",
       "    .dataframe tbody tr th:only-of-type {\n",
       "        vertical-align: middle;\n",
       "    }\n",
       "\n",
       "    .dataframe tbody tr th {\n",
       "        vertical-align: top;\n",
       "    }\n",
       "\n",
       "    .dataframe thead th {\n",
       "        text-align: right;\n",
       "    }\n",
       "</style>\n",
       "<table border=\"1\" class=\"dataframe\">\n",
       "  <thead>\n",
       "    <tr style=\"text-align: right;\">\n",
       "      <th></th>\n",
       "      <th>Age</th>\n",
       "      <th>Gender</th>\n",
       "      <th>Location</th>\n",
       "      <th>Income</th>\n",
       "      <th>Debt</th>\n",
       "      <th>Owns Property</th>\n",
       "      <th>Profession</th>\n",
       "      <th>Demographics</th>\n",
       "      <th>Total Time Spent</th>\n",
       "      <th>Number of Sessions</th>\n",
       "      <th>Number of Videos Watched</th>\n",
       "      <th>Watch Reason</th>\n",
       "      <th>DeviceType</th>\n",
       "      <th>OS</th>\n",
       "      <th>Self Control</th>\n",
       "      <th>Addiction Level</th>\n",
       "      <th>ConnectionType</th>\n",
       "    </tr>\n",
       "  </thead>\n",
       "  <tbody>\n",
       "    <tr>\n",
       "      <th>0</th>\n",
       "      <td>56</td>\n",
       "      <td>male</td>\n",
       "      <td>pakistan</td>\n",
       "      <td>82812.0</td>\n",
       "      <td>1</td>\n",
       "      <td>1</td>\n",
       "      <td>engineer</td>\n",
       "      <td>rural</td>\n",
       "      <td>80</td>\n",
       "      <td>17.0</td>\n",
       "      <td>22.0</td>\n",
       "      <td>rocrastination</td>\n",
       "      <td>smartphone</td>\n",
       "      <td>android</td>\n",
       "      <td>5.0</td>\n",
       "      <td>5.0</td>\n",
       "      <td>mobile_data</td>\n",
       "    </tr>\n",
       "    <tr>\n",
       "      <th>1</th>\n",
       "      <td>46</td>\n",
       "      <td>female</td>\n",
       "      <td>mexico</td>\n",
       "      <td>27999.0</td>\n",
       "      <td>0</td>\n",
       "      <td>1</td>\n",
       "      <td>artist</td>\n",
       "      <td>urban</td>\n",
       "      <td>228</td>\n",
       "      <td>14.0</td>\n",
       "      <td>31.0</td>\n",
       "      <td>abit</td>\n",
       "      <td>computer</td>\n",
       "      <td>android</td>\n",
       "      <td>7.0</td>\n",
       "      <td>3.0</td>\n",
       "      <td>wi_fi</td>\n",
       "    </tr>\n",
       "    <tr>\n",
       "      <th>2</th>\n",
       "      <td>32</td>\n",
       "      <td>female</td>\n",
       "      <td>united_states</td>\n",
       "      <td>42436.0</td>\n",
       "      <td>0</td>\n",
       "      <td>1</td>\n",
       "      <td>engineer</td>\n",
       "      <td>rural</td>\n",
       "      <td>30</td>\n",
       "      <td>6.0</td>\n",
       "      <td>7.0</td>\n",
       "      <td>ntertainment</td>\n",
       "      <td>tablet</td>\n",
       "      <td>android</td>\n",
       "      <td>8.0</td>\n",
       "      <td>2.0</td>\n",
       "      <td>mobile_data</td>\n",
       "    </tr>\n",
       "    <tr>\n",
       "      <th>3</th>\n",
       "      <td>60</td>\n",
       "      <td>male</td>\n",
       "      <td>brazil</td>\n",
       "      <td>62963.0</td>\n",
       "      <td>1</td>\n",
       "      <td>0</td>\n",
       "      <td>waiting_staff</td>\n",
       "      <td>rural</td>\n",
       "      <td>101</td>\n",
       "      <td>19.0</td>\n",
       "      <td>41.0</td>\n",
       "      <td>abit</td>\n",
       "      <td>smartphone</td>\n",
       "      <td>android</td>\n",
       "      <td>5.0</td>\n",
       "      <td>5.0</td>\n",
       "      <td>mobile_data</td>\n",
       "    </tr>\n",
       "    <tr>\n",
       "      <th>4</th>\n",
       "      <td>25</td>\n",
       "      <td>male</td>\n",
       "      <td>pakistan</td>\n",
       "      <td>22096.0</td>\n",
       "      <td>0</td>\n",
       "      <td>1</td>\n",
       "      <td>manager</td>\n",
       "      <td>urban</td>\n",
       "      <td>136</td>\n",
       "      <td>6.0</td>\n",
       "      <td>21.0</td>\n",
       "      <td>oredom</td>\n",
       "      <td>smartphone</td>\n",
       "      <td>ios</td>\n",
       "      <td>1.0</td>\n",
       "      <td>NaN</td>\n",
       "      <td>mobile_data</td>\n",
       "    </tr>\n",
       "  </tbody>\n",
       "</table>\n",
       "</div>"
      ],
      "text/plain": [
       "   Age  Gender       Location   Income  Debt  Owns Property     Profession  \\\n",
       "0   56    male       pakistan  82812.0     1              1       engineer   \n",
       "1   46  female         mexico  27999.0     0              1         artist   \n",
       "2   32  female  united_states  42436.0     0              1       engineer   \n",
       "3   60    male         brazil  62963.0     1              0  waiting_staff   \n",
       "4   25    male       pakistan  22096.0     0              1        manager   \n",
       "\n",
       "  Demographics  Total Time Spent  Number of Sessions  \\\n",
       "0        rural                80                17.0   \n",
       "1        urban               228                14.0   \n",
       "2        rural                30                 6.0   \n",
       "3        rural               101                19.0   \n",
       "4        urban               136                 6.0   \n",
       "\n",
       "   Number of Videos Watched    Watch Reason  DeviceType       OS  \\\n",
       "0                      22.0  rocrastination  smartphone  android   \n",
       "1                      31.0            abit    computer  android   \n",
       "2                       7.0    ntertainment      tablet  android   \n",
       "3                      41.0            abit  smartphone  android   \n",
       "4                      21.0          oredom  smartphone      ios   \n",
       "\n",
       "   Self Control  Addiction Level ConnectionType  \n",
       "0           5.0              5.0    mobile_data  \n",
       "1           7.0              3.0          wi_fi  \n",
       "2           8.0              2.0    mobile_data  \n",
       "3           5.0              5.0    mobile_data  \n",
       "4           1.0              NaN    mobile_data  "
      ]
     },
     "execution_count": 239,
     "metadata": {},
     "output_type": "execute_result"
    }
   ],
   "source": [
    "df.head()"
   ]
  },
  {
   "cell_type": "markdown",
   "metadata": {},
   "source": [
    "Now we will make all the column names look proper and remove unncessary white spaces to prevent any issues in future"
   ]
  },
  {
   "cell_type": "code",
   "execution_count": 245,
   "metadata": {},
   "outputs": [
    {
     "data": {
      "text/plain": [
       "Index(['age', 'gender', 'location', 'income', 'debt', 'owns property',\n",
       "       'profession', 'demographics', 'total time spent', 'number of sessions',\n",
       "       'number of videos watched', 'watch reason', 'devicetype', 'os',\n",
       "       'self control', 'addiction level', 'connectiontype'],\n",
       "      dtype='object')"
      ]
     },
     "execution_count": 245,
     "metadata": {},
     "output_type": "execute_result"
    }
   ],
   "source": [
    "df = df.rename(str.lower, axis='columns')\n",
    "df.columns"
   ]
  },
  {
   "cell_type": "code",
   "execution_count": null,
   "metadata": {},
   "outputs": [
    {
     "data": {
      "text/plain": [
       "Index(['age', 'gender', 'location', 'income', 'debt', 'owns_property',\n",
       "       'profession', 'demographics', 'total_time_spent', 'number_of_sessions',\n",
       "       'number_of_videos_watched', 'watch_reason', 'device_type', 'os',\n",
       "       'self_control', 'addiction_level', 'connection_type'],\n",
       "      dtype='object')"
      ]
     },
     "execution_count": 247,
     "metadata": {},
     "output_type": "execute_result"
    }
   ],
   "source": [
    "new_cols = {\n",
    "    \"owns property\": \"owns_property\",\n",
    "    \"total time spent\": \"total_time_spent\",\n",
    "    \"number of sessions\": \"number_of_sessions\",\n",
    "    \"number of videos watched\": \"number_of_videos_watched\",\n",
    "    \"watch reason\": \"watch_reason\",\n",
    "    \"devicetype\": \"device_type\",\n",
    "    \"self control\": \"self_control\",\n",
    "    \"addiction level\": \"addiction_level\",\n",
    "    \"connectiontype\": \"connection_type\",\n",
    "}\n",
    "\n",
    "df = df.rename(new_cols, axis=\"columns\")\n",
    "df.columns"
   ]
  },
  {
   "cell_type": "markdown",
   "metadata": {},
   "source": [
    "### Pre-processing \n",
    "Now let us create a pre-processing pipeline in sklearn to pre-process this data,"
   ]
  },
  {
   "cell_type": "code",
   "execution_count": null,
   "metadata": {},
   "outputs": [],
   "source": []
  }
 ],
 "metadata": {
  "kernelspec": {
   "display_name": ".venv",
   "language": "python",
   "name": "python3"
  },
  "language_info": {
   "codemirror_mode": {
    "name": "ipython",
    "version": 3
   },
   "file_extension": ".py",
   "mimetype": "text/x-python",
   "name": "python",
   "nbconvert_exporter": "python",
   "pygments_lexer": "ipython3",
   "version": "3.11.5"
  }
 },
 "nbformat": 4,
 "nbformat_minor": 2
}
